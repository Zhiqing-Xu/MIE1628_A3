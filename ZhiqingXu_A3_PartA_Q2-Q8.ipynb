{
 "cells": [
  {
   "cell_type": "markdown",
   "metadata": {},
   "source": [
    "# Part A Question 2"
   ]
  },
  {
   "cell_type": "code",
   "execution_count": 0,
   "metadata": {
    "application/vnd.databricks.v1+cell": {
     "inputWidgets": {},
     "nuid": "af451a30-060c-4113-b0cf-20162b66ff18",
     "showTitle": false,
     "title": ""
    }
   },
   "outputs": [
    {
     "data": {
      "text/plain": [
       "Part A - Question 2:\n",
       "\n"
      ]
     },
     "metadata": {
      "application/vnd.databricks.v1+output": {
       "addedWidgets": {},
       "arguments": {},
       "data": "Part A - Question 2:\n\n",
       "datasetInfos": [],
       "metadata": {},
       "removedWidgets": [],
       "type": "ansi"
      }
     },
     "output_type": "display_data"
    },
    {
     "data": {
      "text/html": [
       "<style scoped>\n",
       "  .table-result-container {\n",
       "    max-height: 300px;\n",
       "    overflow: auto;\n",
       "  }\n",
       "  table, th, td {\n",
       "    border: 1px solid black;\n",
       "    border-collapse: collapse;\n",
       "  }\n",
       "  th, td {\n",
       "    padding: 5px;\n",
       "  }\n",
       "  th {\n",
       "    text-align: left;\n",
       "  }\n",
       "</style><div class='table-result-container'><table class='table-result'><thead style='background-color: white'><tr><th>path</th><th>name</th><th>size</th></tr></thead><tbody><tr><td>dbfs:/kdd/kddcup_data.gz</td><td>kddcup_data.gz</td><td>2144903</td></tr></tbody></table></div>"
      ]
     },
     "metadata": {
      "application/vnd.databricks.v1+output": {
       "addedWidgets": {},
       "aggData": [],
       "aggError": "",
       "aggOverflow": false,
       "aggSchema": [],
       "aggSeriesLimitReached": false,
       "aggType": "",
       "arguments": {},
       "columnCustomDisplayInfos": {},
       "data": [
        [
         "dbfs:/kdd/kddcup_data.gz",
         "kddcup_data.gz",
         2144903
        ]
       ],
       "datasetInfos": [],
       "dbfsResultPath": null,
       "isJsonSchema": true,
       "metadata": {},
       "overflow": false,
       "plotOptions": {
        "customPlotOptions": {},
        "displayType": "plotlyBar",
        "pivotAggregation": null,
        "pivotColumns": null,
        "xColumns": null,
        "yColumns": null
       },
       "removedWidgets": [],
       "schema": [
        {
         "metadata": "{}",
         "name": "path",
         "type": "\"string\""
        },
        {
         "metadata": "{}",
         "name": "name",
         "type": "\"string\""
        },
        {
         "metadata": "{}",
         "name": "size",
         "type": "\"long\""
        }
       ],
       "type": "table"
      }
     },
     "output_type": "display_data"
    }
   ],
   "source": [
    "#--------------------------------------------------#\n",
    "# Part A Question 2:\n",
    "print(\"Part A - Question 2:\\n\")\n",
    "# Use python urllib library to extract the KDD Cup 99 data from their web repository \n",
    "# and store it in a temporary location\n",
    "import urllib.request \n",
    "urllib.request.urlretrieve(\"http://kdd.ics.uci.edu/databases/kddcup99/kddcup.data_10_percent.gz\", \"/tmp/kddcup_data.gz\") \n",
    "# move it to the Databricks filesystem\n",
    "dbutils.fs.mv(\"file:/tmp/kddcup_data.gz\", \"dbfs:/kdd/kddcup_data.gz\") \n",
    "# Display\n",
    "display(dbutils.fs.ls(\"dbfs:/kdd\"))"
   ]
  },
  {
   "cell_type": "markdown",
   "metadata": {},
   "source": [
    "# Part A Question 3"
   ]
  },
  {
   "cell_type": "code",
   "execution_count": 0,
   "metadata": {
    "application/vnd.databricks.v1+cell": {
     "inputWidgets": {},
     "nuid": "feaebd60-d4d4-4e01-aa20-f6af989e58ec",
     "showTitle": false,
     "title": ""
    }
   },
   "outputs": [
    {
     "data": {
      "text/plain": [
       "Part A - Question 3:\n",
       "\n",
       "Print 10 values of RDD: \n",
       "\n",
       "0,tcp,http,SF,181,5450,0,0,0,0,0,1,0,0,0,0,0,0,0,0,0,0,8,8,0.00,0.00,0.00,0.00,1.00,0.00,0.00,9,9,1.00,0.00,0.11,0.00,0.00,0.00,0.00,0.00,normal.\n",
       "0,tcp,http,SF,239,486,0,0,0,0,0,1,0,0,0,0,0,0,0,0,0,0,8,8,0.00,0.00,0.00,0.00,1.00,0.00,0.00,19,19,1.00,0.00,0.05,0.00,0.00,0.00,0.00,0.00,normal.\n",
       "0,tcp,http,SF,235,1337,0,0,0,0,0,1,0,0,0,0,0,0,0,0,0,0,8,8,0.00,0.00,0.00,0.00,1.00,0.00,0.00,29,29,1.00,0.00,0.03,0.00,0.00,0.00,0.00,0.00,normal.\n",
       "0,tcp,http,SF,219,1337,0,0,0,0,0,1,0,0,0,0,0,0,0,0,0,0,6,6,0.00,0.00,0.00,0.00,1.00,0.00,0.00,39,39,1.00,0.00,0.03,0.00,0.00,0.00,0.00,0.00,normal.\n",
       "0,tcp,http,SF,217,2032,0,0,0,0,0,1,0,0,0,0,0,0,0,0,0,0,6,6,0.00,0.00,0.00,0.00,1.00,0.00,0.00,49,49,1.00,0.00,0.02,0.00,0.00,0.00,0.00,0.00,normal.\n",
       "0,tcp,http,SF,217,2032,0,0,0,0,0,1,0,0,0,0,0,0,0,0,0,0,6,6,0.00,0.00,0.00,0.00,1.00,0.00,0.00,59,59,1.00,0.00,0.02,0.00,0.00,0.00,0.00,0.00,normal.\n",
       "0,tcp,http,SF,212,1940,0,0,0,0,0,1,0,0,0,0,0,0,0,0,0,0,1,2,0.00,0.00,0.00,0.00,1.00,0.00,1.00,1,69,1.00,0.00,1.00,0.04,0.00,0.00,0.00,0.00,normal.\n",
       "0,tcp,http,SF,159,4087,0,0,0,0,0,1,0,0,0,0,0,0,0,0,0,0,5,5,0.00,0.00,0.00,0.00,1.00,0.00,0.00,11,79,1.00,0.00,0.09,0.04,0.00,0.00,0.00,0.00,normal.\n",
       "0,tcp,http,SF,210,151,0,0,0,0,0,1,0,0,0,0,0,0,0,0,0,0,8,8,0.00,0.00,0.00,0.00,1.00,0.00,0.00,8,89,1.00,0.00,0.12,0.04,0.00,0.00,0.00,0.00,normal.\n",
       "0,tcp,http,SF,212,786,0,0,0,1,0,1,0,0,0,0,0,0,0,0,0,0,8,8,0.00,0.00,0.00,0.00,1.00,0.00,0.00,8,99,1.00,0.00,0.12,0.05,0.00,0.00,0.00,0.00,normal.\n",
       "\n",
       "Is the data structure RDD? Verification result:  True\n",
       "\n",
       "Number of Enties in the data set:  494021\n",
       "Dimension of each entry:  42\n"
      ]
     },
     "metadata": {
      "application/vnd.databricks.v1+output": {
       "addedWidgets": {},
       "arguments": {},
       "data": "Part A - Question 3:\n\nPrint 10 values of RDD: \n\n0,tcp,http,SF,181,5450,0,0,0,0,0,1,0,0,0,0,0,0,0,0,0,0,8,8,0.00,0.00,0.00,0.00,1.00,0.00,0.00,9,9,1.00,0.00,0.11,0.00,0.00,0.00,0.00,0.00,normal.\n0,tcp,http,SF,239,486,0,0,0,0,0,1,0,0,0,0,0,0,0,0,0,0,8,8,0.00,0.00,0.00,0.00,1.00,0.00,0.00,19,19,1.00,0.00,0.05,0.00,0.00,0.00,0.00,0.00,normal.\n0,tcp,http,SF,235,1337,0,0,0,0,0,1,0,0,0,0,0,0,0,0,0,0,8,8,0.00,0.00,0.00,0.00,1.00,0.00,0.00,29,29,1.00,0.00,0.03,0.00,0.00,0.00,0.00,0.00,normal.\n0,tcp,http,SF,219,1337,0,0,0,0,0,1,0,0,0,0,0,0,0,0,0,0,6,6,0.00,0.00,0.00,0.00,1.00,0.00,0.00,39,39,1.00,0.00,0.03,0.00,0.00,0.00,0.00,0.00,normal.\n0,tcp,http,SF,217,2032,0,0,0,0,0,1,0,0,0,0,0,0,0,0,0,0,6,6,0.00,0.00,0.00,0.00,1.00,0.00,0.00,49,49,1.00,0.00,0.02,0.00,0.00,0.00,0.00,0.00,normal.\n0,tcp,http,SF,217,2032,0,0,0,0,0,1,0,0,0,0,0,0,0,0,0,0,6,6,0.00,0.00,0.00,0.00,1.00,0.00,0.00,59,59,1.00,0.00,0.02,0.00,0.00,0.00,0.00,0.00,normal.\n0,tcp,http,SF,212,1940,0,0,0,0,0,1,0,0,0,0,0,0,0,0,0,0,1,2,0.00,0.00,0.00,0.00,1.00,0.00,1.00,1,69,1.00,0.00,1.00,0.04,0.00,0.00,0.00,0.00,normal.\n0,tcp,http,SF,159,4087,0,0,0,0,0,1,0,0,0,0,0,0,0,0,0,0,5,5,0.00,0.00,0.00,0.00,1.00,0.00,0.00,11,79,1.00,0.00,0.09,0.04,0.00,0.00,0.00,0.00,normal.\n0,tcp,http,SF,210,151,0,0,0,0,0,1,0,0,0,0,0,0,0,0,0,0,8,8,0.00,0.00,0.00,0.00,1.00,0.00,0.00,8,89,1.00,0.00,0.12,0.04,0.00,0.00,0.00,0.00,normal.\n0,tcp,http,SF,212,786,0,0,0,1,0,1,0,0,0,0,0,0,0,0,0,0,8,8,0.00,0.00,0.00,0.00,1.00,0.00,0.00,8,99,1.00,0.00,0.12,0.05,0.00,0.00,0.00,0.00,normal.\n\nIs the data structure RDD? Verification result:  True\n\nNumber of Enties in the data set:  494021\nDimension of each entry:  42\n",
       "datasetInfos": [],
       "metadata": {},
       "removedWidgets": [],
       "type": "ansi"
      }
     },
     "output_type": "display_data"
    }
   ],
   "source": [
    "#--------------------------------------------------#\n",
    "# Part A - Question 3:\n",
    "print(\"Part A - Question 3:\\n\")\n",
    "#--------------------------------------------------#\n",
    "from pyspark import SparkContext\n",
    "sc = SparkContext.getOrCreate()\n",
    "# Load data from the disk into Spark's RDD\n",
    "data_file_path = \"dbfs:/kdd/kddcup_data.gz\"\n",
    "data_set = sc.textFile(data_file_path)\n",
    "#--------------------------------------------------#\n",
    "# Print 10 values of RDD.\n",
    "print(\"Print 10 values of RDD: \\n\")\n",
    "#print(type(data_set.take(10)))\n",
    "for one_line in data_set.take(10):\n",
    "    print(one_line)\n",
    "#--------------------------------------------------#\n",
    "from pyspark.rdd import RDD\n",
    "from pyspark.sql import DataFrame\n",
    "# Verify the type of data structure of data.\n",
    "print(\"\\nIs the data structure RDD? Verification result: \", isinstance(data_set, RDD))\n",
    "data_set_RDD_orgn = data_set\n",
    "del data_set\n",
    "#--------------------------------------------------#\n",
    "# Print important information of the dataset.\n",
    "print(\"\\nNumber of Enties in the data set: \", data_set_RDD_orgn.count())\n",
    "print(\"Dimension of each entry: \", len(data_set_RDD_orgn.take(1)[0].split(\",\")))"
   ]
  },
  {
   "cell_type": "markdown",
   "metadata": {},
   "source": [
    "# Part A Question 4"
   ]
  },
  {
   "cell_type": "code",
   "execution_count": 0,
   "metadata": {
    "application/vnd.databricks.v1+cell": {
     "inputWidgets": {},
     "nuid": "218868ef-87c9-4ba9-9e26-b21dd6850a89",
     "showTitle": false,
     "title": ""
    }
   },
   "outputs": [
    {
     "data": {
      "text/plain": [
       "Part A - Question 4: \n",
       "\n",
       "Number of features in the original data file:  41\n",
       "Dimension of each entry (including label):  42\n",
       "Number of Enties in the data set:  494021\n",
       "\n",
       "The schema is of the original dataset is\n",
       "root\n",
       " |-- duration: string (nullable = true)\n",
       " |-- protocol_type: string (nullable = true)\n",
       " |-- service: string (nullable = true)\n",
       " |-- flag: string (nullable = true)\n",
       " |-- src_bytes: string (nullable = true)\n",
       " |-- dst_bytes: string (nullable = true)\n",
       " |-- land: string (nullable = true)\n",
       " |-- wrong_fragment: string (nullable = true)\n",
       " |-- urgent: string (nullable = true)\n",
       " |-- hot: string (nullable = true)\n",
       " |-- num_failed_logins: string (nullable = true)\n",
       " |-- logged_in: string (nullable = true)\n",
       " |-- num_compromised: string (nullable = true)\n",
       " |-- root_shell: string (nullable = true)\n",
       " |-- su_attempted: string (nullable = true)\n",
       " |-- num_root: string (nullable = true)\n",
       " |-- num_file_creations: string (nullable = true)\n",
       " |-- num_shells: string (nullable = true)\n",
       " |-- num_access_files: string (nullable = true)\n",
       " |-- num_outbound_cmds: string (nullable = true)\n",
       " |-- is_host_login: string (nullable = true)\n",
       " |-- is_guest_login: string (nullable = true)\n",
       " |-- count: string (nullable = true)\n",
       " |-- srv_count: string (nullable = true)\n",
       " |-- serror_rate: string (nullable = true)\n",
       " |-- srv_serror_rate: string (nullable = true)\n",
       " |-- rerror_rate: string (nullable = true)\n",
       " |-- srv_rerror_rate: string (nullable = true)\n",
       " |-- same_srv_rate: string (nullable = true)\n",
       " |-- diff_srv_rate: string (nullable = true)\n",
       " |-- srv_diff_host_rate: string (nullable = true)\n",
       " |-- dst_host_count: string (nullable = true)\n",
       " |-- dst_host_srv_count: string (nullable = true)\n",
       " |-- dst_host_same_srv_rate: string (nullable = true)\n",
       " |-- dst_host_diff_srv_rate: string (nullable = true)\n",
       " |-- dst_host_same_src_port_rate: string (nullable = true)\n",
       " |-- dst_host_srv_diff_host_rate: string (nullable = true)\n",
       " |-- dst_host_serror_rate: string (nullable = true)\n",
       " |-- dst_host_srv_serror_rate: string (nullable = true)\n",
       " |-- dst_host_rerror_rate: string (nullable = true)\n",
       " |-- dst_host_srv_rerror_rate: string (nullable = true)\n",
       " |-- label: string (nullable = true)\n",
       "\n",
       "Print one record of the dataframe: \n",
       "-RECORD 0-----------------------------\n",
       " duration                    | 0      \n",
       " protocol_type               | tcp    \n",
       " service                     | http   \n",
       " flag                        | SF     \n",
       " src_bytes                   | 181    \n",
       " dst_bytes                   | 5450   \n",
       " land                        | 0      \n",
       " wrong_fragment              | 0      \n",
       " urgent                      | 0      \n",
       " hot                         | 0      \n",
       " num_failed_logins           | 0      \n",
       " logged_in                   | 1      \n",
       " num_compromised             | 0      \n",
       " root_shell                  | 0      \n",
       " su_attempted                | 0      \n",
       " num_root                    | 0      \n",
       " num_file_creations          | 0      \n",
       " num_shells                  | 0      \n",
       " num_access_files            | 0      \n",
       " num_outbound_cmds           | 0      \n",
       " is_host_login               | 0      \n",
       " is_guest_login              | 0      \n",
       " count                       | 8      \n",
       " srv_count                   | 8      \n",
       " serror_rate                 | 0.00   \n",
       " srv_serror_rate             | 0.00   \n",
       " rerror_rate                 | 0.00   \n",
       " srv_rerror_rate             | 0.00   \n",
       " same_srv_rate               | 1.00   \n",
       " diff_srv_rate               | 0.00   \n",
       " srv_diff_host_rate          | 0.00   \n",
       " dst_host_count              | 9      \n",
       " dst_host_srv_count          | 9      \n",
       " dst_host_same_srv_rate      | 1.00   \n",
       " dst_host_diff_srv_rate      | 0.00   \n",
       " dst_host_same_src_port_rate | 0.11   \n",
       " dst_host_srv_diff_host_rate | 0.00   \n",
       " dst_host_serror_rate        | 0.00   \n",
       " dst_host_srv_serror_rate    | 0.00   \n",
       " dst_host_rerror_rate        | 0.00   \n",
       " dst_host_srv_rerror_rate    | 0.00   \n",
       " label                       | normal \n",
       "only showing top 1 row\n",
       "\n",
       "\n",
       "The total number of columns (including label) is:  42\n"
      ]
     },
     "metadata": {
      "application/vnd.databricks.v1+output": {
       "addedWidgets": {},
       "arguments": {},
       "data": "Part A - Question 4: \n\nNumber of features in the original data file:  41\nDimension of each entry (including label):  42\nNumber of Enties in the data set:  494021\n\nThe schema is of the original dataset is\nroot\n |-- duration: string (nullable = true)\n |-- protocol_type: string (nullable = true)\n |-- service: string (nullable = true)\n |-- flag: string (nullable = true)\n |-- src_bytes: string (nullable = true)\n |-- dst_bytes: string (nullable = true)\n |-- land: string (nullable = true)\n |-- wrong_fragment: string (nullable = true)\n |-- urgent: string (nullable = true)\n |-- hot: string (nullable = true)\n |-- num_failed_logins: string (nullable = true)\n |-- logged_in: string (nullable = true)\n |-- num_compromised: string (nullable = true)\n |-- root_shell: string (nullable = true)\n |-- su_attempted: string (nullable = true)\n |-- num_root: string (nullable = true)\n |-- num_file_creations: string (nullable = true)\n |-- num_shells: string (nullable = true)\n |-- num_access_files: string (nullable = true)\n |-- num_outbound_cmds: string (nullable = true)\n |-- is_host_login: string (nullable = true)\n |-- is_guest_login: string (nullable = true)\n |-- count: string (nullable = true)\n |-- srv_count: string (nullable = true)\n |-- serror_rate: string (nullable = true)\n |-- srv_serror_rate: string (nullable = true)\n |-- rerror_rate: string (nullable = true)\n |-- srv_rerror_rate: string (nullable = true)\n |-- same_srv_rate: string (nullable = true)\n |-- diff_srv_rate: string (nullable = true)\n |-- srv_diff_host_rate: string (nullable = true)\n |-- dst_host_count: string (nullable = true)\n |-- dst_host_srv_count: string (nullable = true)\n |-- dst_host_same_srv_rate: string (nullable = true)\n |-- dst_host_diff_srv_rate: string (nullable = true)\n |-- dst_host_same_src_port_rate: string (nullable = true)\n |-- dst_host_srv_diff_host_rate: string (nullable = true)\n |-- dst_host_serror_rate: string (nullable = true)\n |-- dst_host_srv_serror_rate: string (nullable = true)\n |-- dst_host_rerror_rate: string (nullable = true)\n |-- dst_host_srv_rerror_rate: string (nullable = true)\n |-- label: string (nullable = true)\n\nPrint one record of the dataframe: \n-RECORD 0-----------------------------\n duration                    | 0      \n protocol_type               | tcp    \n service                     | http   \n flag                        | SF     \n src_bytes                   | 181    \n dst_bytes                   | 5450   \n land                        | 0      \n wrong_fragment              | 0      \n urgent                      | 0      \n hot                         | 0      \n num_failed_logins           | 0      \n logged_in                   | 1      \n num_compromised             | 0      \n root_shell                  | 0      \n su_attempted                | 0      \n num_root                    | 0      \n num_file_creations          | 0      \n num_shells                  | 0      \n num_access_files            | 0      \n num_outbound_cmds           | 0      \n is_host_login               | 0      \n is_guest_login              | 0      \n count                       | 8      \n srv_count                   | 8      \n serror_rate                 | 0.00   \n srv_serror_rate             | 0.00   \n rerror_rate                 | 0.00   \n srv_rerror_rate             | 0.00   \n same_srv_rate               | 1.00   \n diff_srv_rate               | 0.00   \n srv_diff_host_rate          | 0.00   \n dst_host_count              | 9      \n dst_host_srv_count          | 9      \n dst_host_same_srv_rate      | 1.00   \n dst_host_diff_srv_rate      | 0.00   \n dst_host_same_src_port_rate | 0.11   \n dst_host_srv_diff_host_rate | 0.00   \n dst_host_serror_rate        | 0.00   \n dst_host_srv_serror_rate    | 0.00   \n dst_host_rerror_rate        | 0.00   \n dst_host_srv_rerror_rate    | 0.00   \n label                       | normal \nonly showing top 1 row\n\n\nThe total number of columns (including label) is:  42\n",
       "datasetInfos": [],
       "metadata": {},
       "removedWidgets": [],
       "type": "ansi"
      }
     },
     "output_type": "display_data"
    }
   ],
   "source": [
    "#--------------------------------------------------#\n",
    "# Part A - Question 4:\n",
    "print(\"Part A - Question 4: \\n\")\n",
    "#--------------------------------------------------#\n",
    "# Get the list of features from http://kdd.ics.uci.edu/databases/kddcup99/kddcup.names\n",
    "from urllib.request import urlopen\n",
    "url = \"http://kdd.ics.uci.edu/databases/kddcup99/kddcup.names\"    \n",
    "feature_names_text = urlopen(url).read().decode(\"utf-8\") \n",
    "#--------------------------------------------------#\n",
    "#print(feature_names_text)\n",
    "feature_names_text = feature_names_text.replace(\" \", \"\")\n",
    "feature_names_list = [one_line.split(\":\")[0] for one_line in feature_names_text.split(\"\\n\")[1:]][:-1]\n",
    "#--------------------------------------------------#\n",
    "# Results commented here for potential use.\n",
    "'''\n",
    "feature_names_list = ['duration', 'protocol_type', 'service', 'flag', 'src_bytes', 'dst_bytes', 'land', 'wrong_fragment', 'urgent', 'hot', \n",
    "                      'num_failed_logins', 'logged_in', 'num_compromised', 'root_shell', 'su_attempted', 'num_root', 'num_file_creations', \n",
    "                      'num_shells', 'num_access_files', 'num_outbound_cmds', 'is_host_login', 'is_guest_login', 'count', 'srv_count', 'serror_rate', \n",
    "                      'srv_serror_rate', 'rerror_rate', 'srv_rerror_rate', 'same_srv_rate', 'diff_srv_rate', 'srv_diff_host_rate', 'dst_host_count', \n",
    "                      'dst_host_srv_count', 'dst_host_same_srv_rate', 'dst_host_diff_srv_rate', 'dst_host_same_src_port_rate', 'dst_host_srv_diff_host_rate', \n",
    "                      'dst_host_serror_rate', 'dst_host_srv_serror_rate', 'dst_host_rerror_rate', 'dst_host_srv_rerror_rate']\n",
    "                      '''\n",
    "print(\"Number of features in the original data file: \", len(feature_names_list))\n",
    "#--------------------------------------------------#\n",
    "# Split the data.\n",
    "print(\"Dimension of each entry (including label): \", len(data_set_RDD_orgn.take(1)[0].split(\",\")))\n",
    "print(\"Number of Enties in the data set: \", data_set_RDD_orgn.count())\n",
    "# data_set_list = [one_line.split(\",\") for one_line in data_set_RDD_orgn.take(data_set_RDD_orgn.count())]\n",
    "#--------------------------------------------------#\n",
    "# Split the data.\n",
    "data_set_RDD = data_set_RDD_orgn.map(lambda line: line[:-1].split(\",\"))\n",
    "dataframe_titles = feature_names_list\n",
    "dataframe_titles.append(\"label\")\n",
    "df_KDDCup = data_set_RDD.toDF(dataframe_titles)\n",
    "print(\"\\nThe schema is of the original dataset is\")\n",
    "df_KDDCup.printSchema()\n",
    "#df_KDDCup.show(truncate=False)\n",
    "print(\"Print one record of the dataframe: \")\n",
    "df_KDDCup.show(n=1, truncate=False, vertical=True)\n",
    "print(\"\\nThe total number of columns (including label) is: \", len(df_KDDCup.columns))\n"
   ]
  },
  {
   "cell_type": "markdown",
   "metadata": {},
   "source": [
    "# Part A Question 5"
   ]
  },
  {
   "cell_type": "code",
   "execution_count": 0,
   "metadata": {
    "application/vnd.databricks.v1+cell": {
     "inputWidgets": {},
     "nuid": "d37daa55-9b2e-49c8-8193-01ad2b6a65b4",
     "showTitle": false,
     "title": ""
    }
   },
   "outputs": [
    {
     "data": {
      "text/plain": [
       "Part A - Question 5: \n",
       "\n",
       "\n",
       "The schema is of the extracted dataframe is\n",
       "root\n",
       " |-- duration: string (nullable = true)\n",
       " |-- protocol_type: string (nullable = true)\n",
       " |-- service: string (nullable = true)\n",
       " |-- src_bytes: string (nullable = true)\n",
       " |-- dst_bytes: string (nullable = true)\n",
       " |-- flag: string (nullable = true)\n",
       " |-- label: string (nullable = true)\n",
       "\n",
       "Print one record of the extracted dataframe (shown vertically): \n",
       "-RECORD 0---------------\n",
       " duration      | 0      \n",
       " protocol_type | tcp    \n",
       " service       | http   \n",
       " src_bytes     | 181    \n",
       " dst_bytes     | 5450   \n",
       " flag          | SF     \n",
       " label         | normal \n",
       "only showing top 1 row\n",
       "\n",
       "Print first several records of the extracted dataframe: \n",
       "+--------+-------------+-------+---------+---------+----+------+\n",
       "|duration|protocol_type|service|src_bytes|dst_bytes|flag|label |\n",
       "+--------+-------------+-------+---------+---------+----+------+\n",
       "|0       |tcp          |http   |181      |5450     |SF  |normal|\n",
       "|0       |tcp          |http   |239      |486      |SF  |normal|\n",
       "|0       |tcp          |http   |235      |1337     |SF  |normal|\n",
       "|0       |tcp          |http   |219      |1337     |SF  |normal|\n",
       "|0       |tcp          |http   |217      |2032     |SF  |normal|\n",
       "|0       |tcp          |http   |217      |2032     |SF  |normal|\n",
       "|0       |tcp          |http   |212      |1940     |SF  |normal|\n",
       "|0       |tcp          |http   |159      |4087     |SF  |normal|\n",
       "|0       |tcp          |http   |210      |151      |SF  |normal|\n",
       "|0       |tcp          |http   |212      |786      |SF  |normal|\n",
       "+--------+-------------+-------+---------+---------+----+------+\n",
       "only showing top 10 rows\n",
       "\n",
       "\n",
       "The total number of columns (including label) is:  7\n",
       "\n",
       "Print first ten rows of the newly created RDD: \n",
       "Row(duration='0', protocol_type='tcp', service='http', src_bytes='181', dst_bytes='5450', flag='SF', label='normal')\n",
       "Row(duration='0', protocol_type='tcp', service='http', src_bytes='239', dst_bytes='486', flag='SF', label='normal')\n",
       "Row(duration='0', protocol_type='tcp', service='http', src_bytes='235', dst_bytes='1337', flag='SF', label='normal')\n",
       "Row(duration='0', protocol_type='tcp', service='http', src_bytes='219', dst_bytes='1337', flag='SF', label='normal')\n",
       "Row(duration='0', protocol_type='tcp', service='http', src_bytes='217', dst_bytes='2032', flag='SF', label='normal')\n",
       "Row(duration='0', protocol_type='tcp', service='http', src_bytes='217', dst_bytes='2032', flag='SF', label='normal')\n",
       "Row(duration='0', protocol_type='tcp', service='http', src_bytes='212', dst_bytes='1940', flag='SF', label='normal')\n",
       "Row(duration='0', protocol_type='tcp', service='http', src_bytes='159', dst_bytes='4087', flag='SF', label='normal')\n",
       "Row(duration='0', protocol_type='tcp', service='http', src_bytes='210', dst_bytes='151', flag='SF', label='normal')\n",
       "Row(duration='0', protocol_type='tcp', service='http', src_bytes='212', dst_bytes='786', flag='SF', label='normal')\n"
      ]
     },
     "metadata": {
      "application/vnd.databricks.v1+output": {
       "addedWidgets": {},
       "arguments": {},
       "data": "Part A - Question 5: \n\n\nThe schema is of the extracted dataframe is\nroot\n |-- duration: string (nullable = true)\n |-- protocol_type: string (nullable = true)\n |-- service: string (nullable = true)\n |-- src_bytes: string (nullable = true)\n |-- dst_bytes: string (nullable = true)\n |-- flag: string (nullable = true)\n |-- label: string (nullable = true)\n\nPrint one record of the extracted dataframe (shown vertically): \n-RECORD 0---------------\n duration      | 0      \n protocol_type | tcp    \n service       | http   \n src_bytes     | 181    \n dst_bytes     | 5450   \n flag          | SF     \n label         | normal \nonly showing top 1 row\n\nPrint first several records of the extracted dataframe: \n+--------+-------------+-------+---------+---------+----+------+\n|duration|protocol_type|service|src_bytes|dst_bytes|flag|label |\n+--------+-------------+-------+---------+---------+----+------+\n|0       |tcp          |http   |181      |5450     |SF  |normal|\n|0       |tcp          |http   |239      |486      |SF  |normal|\n|0       |tcp          |http   |235      |1337     |SF  |normal|\n|0       |tcp          |http   |219      |1337     |SF  |normal|\n|0       |tcp          |http   |217      |2032     |SF  |normal|\n|0       |tcp          |http   |217      |2032     |SF  |normal|\n|0       |tcp          |http   |212      |1940     |SF  |normal|\n|0       |tcp          |http   |159      |4087     |SF  |normal|\n|0       |tcp          |http   |210      |151      |SF  |normal|\n|0       |tcp          |http   |212      |786      |SF  |normal|\n+--------+-------------+-------+---------+---------+----+------+\nonly showing top 10 rows\n\n\nThe total number of columns (including label) is:  7\n\nPrint first ten rows of the newly created RDD: \nRow(duration='0', protocol_type='tcp', service='http', src_bytes='181', dst_bytes='5450', flag='SF', label='normal')\nRow(duration='0', protocol_type='tcp', service='http', src_bytes='239', dst_bytes='486', flag='SF', label='normal')\nRow(duration='0', protocol_type='tcp', service='http', src_bytes='235', dst_bytes='1337', flag='SF', label='normal')\nRow(duration='0', protocol_type='tcp', service='http', src_bytes='219', dst_bytes='1337', flag='SF', label='normal')\nRow(duration='0', protocol_type='tcp', service='http', src_bytes='217', dst_bytes='2032', flag='SF', label='normal')\nRow(duration='0', protocol_type='tcp', service='http', src_bytes='217', dst_bytes='2032', flag='SF', label='normal')\nRow(duration='0', protocol_type='tcp', service='http', src_bytes='212', dst_bytes='1940', flag='SF', label='normal')\nRow(duration='0', protocol_type='tcp', service='http', src_bytes='159', dst_bytes='4087', flag='SF', label='normal')\nRow(duration='0', protocol_type='tcp', service='http', src_bytes='210', dst_bytes='151', flag='SF', label='normal')\nRow(duration='0', protocol_type='tcp', service='http', src_bytes='212', dst_bytes='786', flag='SF', label='normal')\n",
       "datasetInfos": [],
       "metadata": {},
       "removedWidgets": [],
       "type": "ansi"
      }
     },
     "output_type": "display_data"
    }
   ],
   "source": [
    "#--------------------------------------------------#\n",
    "# Part A - Question 5:\n",
    "print(\"Part A - Question 5: \\n\")\n",
    "#--------------------------------------------------#\n",
    "# Extract these 6 columns (duration, protocol_type, service, src_bytes, dst_bytes, flag and label).\n",
    "df_KDDCup_extract = df_KDDCup[\"duration\", \"protocol_type\", \"service\", \"src_bytes\", \"dst_bytes\", \"flag\", \"label\"]\n",
    "print(\"\\nThe schema is of the extracted dataframe is\")\n",
    "df_KDDCup_extract.printSchema()\n",
    "#--------------------------------------------------#\n",
    "# Build a new dataframe w/ extracted features\n",
    "print(\"Print one record of the extracted dataframe (shown vertically): \")\n",
    "df_KDDCup_extract.show(n=1, truncate=False, vertical=True)\n",
    "print(\"Print first several records of the extracted dataframe: \")\n",
    "df_KDDCup_extract.show(n=10, truncate=False)\n",
    "print(\"\\nThe total number of columns (including label) is: \", len(df_KDDCup_extract.columns))\n",
    "#--------------------------------------------------#\n",
    "# Build a new RDD\n",
    "RDD_KDDCup_extracted = df_KDDCup_extract.rdd\n",
    "print(\"\\nPrint first ten rows of the newly created RDD: \")\n",
    "for one_row in RDD_KDDCup_extracted.take(10):\n",
    "    print(one_row)\n"
   ]
  },
  {
   "cell_type": "markdown",
   "metadata": {},
   "source": [
    "# Part A - Question 6"
   ]
  },
  {
   "cell_type": "code",
   "execution_count": 0,
   "metadata": {
    "application/vnd.databricks.v1+cell": {
     "inputWidgets": {},
     "nuid": "c5ef4e5d-dd22-4c14-bcbb-fd39964ad84d",
     "showTitle": false,
     "title": ""
    }
   },
   "outputs": [
    {
     "data": {
      "text/plain": [
       "Part A - Question 6: \n",
       "\n",
       "\n",
       "Get the total number of connections based on the protocol_type: \n",
       "+-------------+------+\n",
       "|protocol_type|count |\n",
       "+-------------+------+\n",
       "|udp          |20354 |\n",
       "|tcp          |190065|\n",
       "|icmp         |283602|\n",
       "+-------------+------+\n",
       "\n"
      ]
     },
     "metadata": {
      "application/vnd.databricks.v1+output": {
       "addedWidgets": {},
       "arguments": {},
       "data": "Part A - Question 6: \n\n\nGet the total number of connections based on the protocol_type: \n+-------------+------+\n|protocol_type|count |\n+-------------+------+\n|udp          |20354 |\n|tcp          |190065|\n|icmp         |283602|\n+-------------+------+\n\n",
       "datasetInfos": [],
       "metadata": {},
       "removedWidgets": [],
       "type": "ansi"
      }
     },
     "output_type": "display_data"
    },
    {
     "data": {
      "text/html": [
       "<style scoped>\n",
       "  .table-result-container {\n",
       "    max-height: 300px;\n",
       "    overflow: auto;\n",
       "  }\n",
       "  table, th, td {\n",
       "    border: 1px solid black;\n",
       "    border-collapse: collapse;\n",
       "  }\n",
       "  th, td {\n",
       "    padding: 5px;\n",
       "  }\n",
       "  th {\n",
       "    text-align: left;\n",
       "  }\n",
       "</style><div class='table-result-container'><table class='table-result'><thead style='background-color: white'><tr><th>protocol_type</th><th>count</th></tr></thead><tbody><tr><td>udp</td><td>20354</td></tr><tr><td>tcp</td><td>190065</td></tr><tr><td>icmp</td><td>283602</td></tr></tbody></table></div>"
      ]
     },
     "metadata": {
      "application/vnd.databricks.v1+output": {
       "addedWidgets": {},
       "aggData": [],
       "aggError": "",
       "aggOverflow": false,
       "aggSchema": [],
       "aggSeriesLimitReached": false,
       "aggType": "",
       "arguments": {},
       "columnCustomDisplayInfos": {},
       "data": [
        [
         "udp",
         20354
        ],
        [
         "tcp",
         190065
        ],
        [
         "icmp",
         283602
        ]
       ],
       "datasetInfos": [],
       "dbfsResultPath": null,
       "isJsonSchema": true,
       "metadata": {},
       "overflow": false,
       "plotOptions": {
        "customPlotOptions": {
         "plotlyBar": [
          {
           "key": "grouped",
           "value": true
          },
          {
           "key": "stacked",
           "value": false
          },
          {
           "key": "100_stacked",
           "value": false
          }
         ]
        },
        "displayType": "plotlyBar",
        "pivotAggregation": "sum",
        "pivotColumns": [],
        "xColumns": [
         "protocol_type"
        ],
        "yColumns": [
         "count"
        ]
       },
       "removedWidgets": [],
       "schema": [
        {
         "metadata": "{}",
         "name": "protocol_type",
         "type": "\"string\""
        },
        {
         "metadata": "{}",
         "name": "count",
         "type": "\"long\""
        }
       ],
       "type": "table"
      }
     },
     "output_type": "display_data"
    }
   ],
   "source": [
    "#--------------------------------------------------#\n",
    "# Part A - Question 6:\n",
    "print(\"Part A - Question 6: \\n\")\n",
    "#--------------------------------------------------#\n",
    "print(\"\\nGet the total number of connections based on the protocol_type: \")\n",
    "DF_connection_protocol = df_KDDCup_extract.groupBy(\"protocol_type\").count().sort(\"count\")\n",
    "display(DF_connection_protocol)\n",
    "DF_connection_protocol.show(truncate=False)\n"
   ]
  },
  {
   "cell_type": "code",
   "execution_count": 0,
   "metadata": {
    "application/vnd.databricks.v1+cell": {
     "inputWidgets": {},
     "nuid": "da62ab97-cb1e-430a-8674-c221d49e9c38",
     "showTitle": false,
     "title": ""
    }
   },
   "outputs": [
    {
     "data": {
      "text/plain": [
       "\n",
       "Get the total number of connections based on the service: \n",
       "+-----------+-----+\n",
       "|service    |count|\n",
       "+-----------+-----+\n",
       "|red_i      |1    |\n",
       "|pm_dump    |1    |\n",
       "|tftp_u     |1    |\n",
       "|tim_i      |7    |\n",
       "|X11        |11   |\n",
       "|urh_i      |14   |\n",
       "|IRC        |43   |\n",
       "|Z39_50     |92   |\n",
       "|netstat    |95   |\n",
       "|ctf        |97   |\n",
       "|kshell     |98   |\n",
       "|name       |98   |\n",
       "|netbios_dgm|99   |\n",
       "|http_443   |99   |\n",
       "|exec       |99   |\n",
       "|ldap       |101  |\n",
       "|pop_2      |101  |\n",
       "|link       |102  |\n",
       "|netbios_ns |102  |\n",
       "|daytime    |103  |\n",
       "+-----------+-----+\n",
       "only showing top 20 rows\n",
       "\n"
      ]
     },
     "metadata": {
      "application/vnd.databricks.v1+output": {
       "addedWidgets": {},
       "arguments": {},
       "data": "\nGet the total number of connections based on the service: \n+-----------+-----+\n|service    |count|\n+-----------+-----+\n|red_i      |1    |\n|pm_dump    |1    |\n|tftp_u     |1    |\n|tim_i      |7    |\n|X11        |11   |\n|urh_i      |14   |\n|IRC        |43   |\n|Z39_50     |92   |\n|netstat    |95   |\n|ctf        |97   |\n|kshell     |98   |\n|name       |98   |\n|netbios_dgm|99   |\n|http_443   |99   |\n|exec       |99   |\n|ldap       |101  |\n|pop_2      |101  |\n|link       |102  |\n|netbios_ns |102  |\n|daytime    |103  |\n+-----------+-----+\nonly showing top 20 rows\n\n",
       "datasetInfos": [],
       "metadata": {},
       "removedWidgets": [],
       "type": "ansi"
      }
     },
     "output_type": "display_data"
    },
    {
     "data": {
      "text/html": [
       "<style scoped>\n",
       "  .table-result-container {\n",
       "    max-height: 300px;\n",
       "    overflow: auto;\n",
       "  }\n",
       "  table, th, td {\n",
       "    border: 1px solid black;\n",
       "    border-collapse: collapse;\n",
       "  }\n",
       "  th, td {\n",
       "    padding: 5px;\n",
       "  }\n",
       "  th {\n",
       "    text-align: left;\n",
       "  }\n",
       "</style><div class='table-result-container'><table class='table-result'><thead style='background-color: white'><tr><th>service</th><th>count</th></tr></thead><tbody><tr><td>tftp_u</td><td>1</td></tr><tr><td>red_i</td><td>1</td></tr><tr><td>pm_dump</td><td>1</td></tr><tr><td>tim_i</td><td>7</td></tr><tr><td>X11</td><td>11</td></tr><tr><td>urh_i</td><td>14</td></tr><tr><td>IRC</td><td>43</td></tr><tr><td>Z39_50</td><td>92</td></tr><tr><td>netstat</td><td>95</td></tr><tr><td>ctf</td><td>97</td></tr><tr><td>kshell</td><td>98</td></tr><tr><td>name</td><td>98</td></tr><tr><td>exec</td><td>99</td></tr><tr><td>netbios_dgm</td><td>99</td></tr><tr><td>http_443</td><td>99</td></tr><tr><td>pop_2</td><td>101</td></tr><tr><td>ldap</td><td>101</td></tr><tr><td>netbios_ns</td><td>102</td></tr><tr><td>link</td><td>102</td></tr><tr><td>daytime</td><td>103</td></tr><tr><td>efs</td><td>103</td></tr><tr><td>hostnames</td><td>104</td></tr><tr><td>login</td><td>104</td></tr><tr><td>supdup</td><td>105</td></tr><tr><td>ssh</td><td>105</td></tr><tr><td>nnsp</td><td>105</td></tr><tr><td>klogin</td><td>106</td></tr><tr><td>vmnet</td><td>106</td></tr><tr><td>uucp_path</td><td>106</td></tr><tr><td>uucp</td><td>106</td></tr><tr><td>bgp</td><td>106</td></tr><tr><td>netbios_ssn</td><td>107</td></tr><tr><td>sunrpc</td><td>107</td></tr><tr><td>mtp</td><td>107</td></tr><tr><td>courier</td><td>108</td></tr><tr><td>nntp</td><td>108</td></tr><tr><td>printer</td><td>109</td></tr><tr><td>sql_net</td><td>110</td></tr><tr><td>whois</td><td>110</td></tr><tr><td>rje</td><td>111</td></tr><tr><td>echo</td><td>112</td></tr><tr><td>shell</td><td>112</td></tr><tr><td>iso_tsap</td><td>115</td></tr><tr><td>systat</td><td>115</td></tr><tr><td>domain</td><td>116</td></tr><tr><td>discard</td><td>116</td></tr><tr><td>gopher</td><td>117</td></tr><tr><td>imap4</td><td>117</td></tr><tr><td>remote_job</td><td>120</td></tr><tr><td>csnet_ns</td><td>126</td></tr><tr><td>time</td><td>157</td></tr><tr><td>pop_3</td><td>202</td></tr><tr><td>auth</td><td>328</td></tr><tr><td>ntp_u</td><td>380</td></tr><tr><td>telnet</td><td>513</td></tr><tr><td>urp_i</td><td>538</td></tr><tr><td>finger</td><td>670</td></tr><tr><td>ftp</td><td>798</td></tr><tr><td>eco_i</td><td>1642</td></tr><tr><td>ftp_data</td><td>4721</td></tr><tr><td>domain_u</td><td>5863</td></tr><tr><td>other</td><td>7237</td></tr><tr><td>smtp</td><td>9723</td></tr><tr><td>http</td><td>64293</td></tr><tr><td>private</td><td>110893</td></tr><tr><td>ecr_i</td><td>281400</td></tr></tbody></table></div>"
      ]
     },
     "metadata": {
      "application/vnd.databricks.v1+output": {
       "addedWidgets": {},
       "aggData": [],
       "aggError": "",
       "aggOverflow": false,
       "aggSchema": [],
       "aggSeriesLimitReached": false,
       "aggType": "",
       "arguments": {},
       "columnCustomDisplayInfos": {},
       "data": [
        [
         "tftp_u",
         1
        ],
        [
         "red_i",
         1
        ],
        [
         "pm_dump",
         1
        ],
        [
         "tim_i",
         7
        ],
        [
         "X11",
         11
        ],
        [
         "urh_i",
         14
        ],
        [
         "IRC",
         43
        ],
        [
         "Z39_50",
         92
        ],
        [
         "netstat",
         95
        ],
        [
         "ctf",
         97
        ],
        [
         "kshell",
         98
        ],
        [
         "name",
         98
        ],
        [
         "exec",
         99
        ],
        [
         "netbios_dgm",
         99
        ],
        [
         "http_443",
         99
        ],
        [
         "pop_2",
         101
        ],
        [
         "ldap",
         101
        ],
        [
         "netbios_ns",
         102
        ],
        [
         "link",
         102
        ],
        [
         "daytime",
         103
        ],
        [
         "efs",
         103
        ],
        [
         "hostnames",
         104
        ],
        [
         "login",
         104
        ],
        [
         "supdup",
         105
        ],
        [
         "ssh",
         105
        ],
        [
         "nnsp",
         105
        ],
        [
         "klogin",
         106
        ],
        [
         "vmnet",
         106
        ],
        [
         "uucp_path",
         106
        ],
        [
         "uucp",
         106
        ],
        [
         "bgp",
         106
        ],
        [
         "netbios_ssn",
         107
        ],
        [
         "sunrpc",
         107
        ],
        [
         "mtp",
         107
        ],
        [
         "courier",
         108
        ],
        [
         "nntp",
         108
        ],
        [
         "printer",
         109
        ],
        [
         "sql_net",
         110
        ],
        [
         "whois",
         110
        ],
        [
         "rje",
         111
        ],
        [
         "echo",
         112
        ],
        [
         "shell",
         112
        ],
        [
         "iso_tsap",
         115
        ],
        [
         "systat",
         115
        ],
        [
         "domain",
         116
        ],
        [
         "discard",
         116
        ],
        [
         "gopher",
         117
        ],
        [
         "imap4",
         117
        ],
        [
         "remote_job",
         120
        ],
        [
         "csnet_ns",
         126
        ],
        [
         "time",
         157
        ],
        [
         "pop_3",
         202
        ],
        [
         "auth",
         328
        ],
        [
         "ntp_u",
         380
        ],
        [
         "telnet",
         513
        ],
        [
         "urp_i",
         538
        ],
        [
         "finger",
         670
        ],
        [
         "ftp",
         798
        ],
        [
         "eco_i",
         1642
        ],
        [
         "ftp_data",
         4721
        ],
        [
         "domain_u",
         5863
        ],
        [
         "other",
         7237
        ],
        [
         "smtp",
         9723
        ],
        [
         "http",
         64293
        ],
        [
         "private",
         110893
        ],
        [
         "ecr_i",
         281400
        ]
       ],
       "datasetInfos": [],
       "dbfsResultPath": null,
       "isJsonSchema": true,
       "metadata": {},
       "overflow": false,
       "plotOptions": {
        "customPlotOptions": {},
        "displayType": "plotlyBar",
        "pivotAggregation": null,
        "pivotColumns": null,
        "xColumns": null,
        "yColumns": null
       },
       "removedWidgets": [],
       "schema": [
        {
         "metadata": "{}",
         "name": "service",
         "type": "\"string\""
        },
        {
         "metadata": "{}",
         "name": "count",
         "type": "\"long\""
        }
       ],
       "type": "table"
      }
     },
     "output_type": "display_data"
    }
   ],
   "source": [
    "#--------------------------------------------------#\n",
    "print(\"\\nGet the total number of connections based on the service: \")\n",
    "DF_connection_service = df_KDDCup_extract.groupBy(\"service\").count().sort(\"count\")\n",
    "display(DF_connection_service)\n",
    "DF_connection_service.show(truncate=False)"
   ]
  },
  {
   "cell_type": "markdown",
   "metadata": {},
   "source": [
    "# Part A - Question 7:"
   ]
  },
  {
   "cell_type": "code",
   "execution_count": 0,
   "metadata": {
    "application/vnd.databricks.v1+cell": {
     "inputWidgets": {},
     "nuid": "9d70e49c-85f6-473b-a5a0-f9626b4552b8",
     "showTitle": false,
     "title": ""
    }
   },
   "outputs": [
    {
     "data": {
      "text/plain": [
       "Part A - Question 7: \n",
       "\n",
       "\n",
       "Get the total number of connections based on the label: \n",
       "+---------------+------+\n",
       "|label          |count |\n",
       "+---------------+------+\n",
       "|smurf          |280790|\n",
       "|neptune        |107201|\n",
       "|normal         |97278 |\n",
       "|back           |2203  |\n",
       "|satan          |1589  |\n",
       "|ipsweep        |1247  |\n",
       "|portsweep      |1040  |\n",
       "|warezclient    |1020  |\n",
       "|teardrop       |979   |\n",
       "|pod            |264   |\n",
       "|nmap           |231   |\n",
       "|guess_passwd   |53    |\n",
       "|buffer_overflow|30    |\n",
       "|land           |21    |\n",
       "|warezmaster    |20    |\n",
       "|imap           |12    |\n",
       "|rootkit        |10    |\n",
       "|loadmodule     |9     |\n",
       "|ftp_write      |8     |\n",
       "|multihop       |7     |\n",
       "+---------------+------+\n",
       "only showing top 20 rows\n",
       "\n"
      ]
     },
     "metadata": {
      "application/vnd.databricks.v1+output": {
       "addedWidgets": {},
       "arguments": {},
       "data": "Part A - Question 7: \n\n\nGet the total number of connections based on the label: \n+---------------+------+\n|label          |count |\n+---------------+------+\n|smurf          |280790|\n|neptune        |107201|\n|normal         |97278 |\n|back           |2203  |\n|satan          |1589  |\n|ipsweep        |1247  |\n|portsweep      |1040  |\n|warezclient    |1020  |\n|teardrop       |979   |\n|pod            |264   |\n|nmap           |231   |\n|guess_passwd   |53    |\n|buffer_overflow|30    |\n|land           |21    |\n|warezmaster    |20    |\n|imap           |12    |\n|rootkit        |10    |\n|loadmodule     |9     |\n|ftp_write      |8     |\n|multihop       |7     |\n+---------------+------+\nonly showing top 20 rows\n\n",
       "datasetInfos": [],
       "metadata": {},
       "removedWidgets": [],
       "type": "ansi"
      }
     },
     "output_type": "display_data"
    },
    {
     "data": {
      "text/html": [
       "<style scoped>\n",
       "  .table-result-container {\n",
       "    max-height: 300px;\n",
       "    overflow: auto;\n",
       "  }\n",
       "  table, th, td {\n",
       "    border: 1px solid black;\n",
       "    border-collapse: collapse;\n",
       "  }\n",
       "  th, td {\n",
       "    padding: 5px;\n",
       "  }\n",
       "  th {\n",
       "    text-align: left;\n",
       "  }\n",
       "</style><div class='table-result-container'><table class='table-result'><thead style='background-color: white'><tr><th>label</th><th>count</th></tr></thead><tbody><tr><td>smurf</td><td>280790</td></tr><tr><td>neptune</td><td>107201</td></tr><tr><td>normal</td><td>97278</td></tr><tr><td>back</td><td>2203</td></tr><tr><td>satan</td><td>1589</td></tr><tr><td>ipsweep</td><td>1247</td></tr><tr><td>portsweep</td><td>1040</td></tr><tr><td>warezclient</td><td>1020</td></tr><tr><td>teardrop</td><td>979</td></tr><tr><td>pod</td><td>264</td></tr><tr><td>nmap</td><td>231</td></tr><tr><td>guess_passwd</td><td>53</td></tr><tr><td>buffer_overflow</td><td>30</td></tr><tr><td>land</td><td>21</td></tr><tr><td>warezmaster</td><td>20</td></tr><tr><td>imap</td><td>12</td></tr><tr><td>rootkit</td><td>10</td></tr><tr><td>loadmodule</td><td>9</td></tr><tr><td>ftp_write</td><td>8</td></tr><tr><td>multihop</td><td>7</td></tr><tr><td>phf</td><td>4</td></tr><tr><td>perl</td><td>3</td></tr><tr><td>spy</td><td>2</td></tr></tbody></table></div>"
      ]
     },
     "metadata": {
      "application/vnd.databricks.v1+output": {
       "addedWidgets": {},
       "aggData": [],
       "aggError": "",
       "aggOverflow": false,
       "aggSchema": [],
       "aggSeriesLimitReached": false,
       "aggType": "",
       "arguments": {},
       "columnCustomDisplayInfos": {},
       "data": [
        [
         "smurf",
         280790
        ],
        [
         "neptune",
         107201
        ],
        [
         "normal",
         97278
        ],
        [
         "back",
         2203
        ],
        [
         "satan",
         1589
        ],
        [
         "ipsweep",
         1247
        ],
        [
         "portsweep",
         1040
        ],
        [
         "warezclient",
         1020
        ],
        [
         "teardrop",
         979
        ],
        [
         "pod",
         264
        ],
        [
         "nmap",
         231
        ],
        [
         "guess_passwd",
         53
        ],
        [
         "buffer_overflow",
         30
        ],
        [
         "land",
         21
        ],
        [
         "warezmaster",
         20
        ],
        [
         "imap",
         12
        ],
        [
         "rootkit",
         10
        ],
        [
         "loadmodule",
         9
        ],
        [
         "ftp_write",
         8
        ],
        [
         "multihop",
         7
        ],
        [
         "phf",
         4
        ],
        [
         "perl",
         3
        ],
        [
         "spy",
         2
        ]
       ],
       "datasetInfos": [],
       "dbfsResultPath": null,
       "isJsonSchema": true,
       "metadata": {},
       "overflow": false,
       "plotOptions": {
        "customPlotOptions": {},
        "displayType": "plotlyBar",
        "pivotAggregation": null,
        "pivotColumns": null,
        "xColumns": null,
        "yColumns": null
       },
       "removedWidgets": [],
       "schema": [
        {
         "metadata": "{}",
         "name": "label",
         "type": "\"string\""
        },
        {
         "metadata": "{}",
         "name": "count",
         "type": "\"long\""
        }
       ],
       "type": "table"
      }
     },
     "output_type": "display_data"
    }
   ],
   "source": [
    "#--------------------------------------------------#\n",
    "# Part A - Question 7:\n",
    "print(\"Part A - Question 7: \\n\")\n",
    "#--------------------------------------------------#\n",
    "print(\"\\nGet the total number of connections based on the label: \")\n",
    "DF_connection_analysis = df_KDDCup_extract.groupBy(\"label\").count().orderBy(\"count\", ascending=False)\n",
    "display(DF_connection_analysis)\n",
    "DF_connection_analysis.show(truncate=False)\n",
    "#--------------------------------------------------#"
   ]
  },
  {
   "cell_type": "code",
   "execution_count": 0,
   "metadata": {
    "application/vnd.databricks.v1+cell": {
     "inputWidgets": {},
     "nuid": "e8bc3ef9-04a3-4d52-9b97-2664054036ed",
     "showTitle": false,
     "title": ""
    }
   },
   "outputs": [
    {
     "data": {
      "text/plain": [
       "\n",
       "Get the total number of normal connections based on the protocol type and compare with all types of connections.\n",
       "\n",
       "Ttotal number of connections based on the protocol type: \n",
       "+-------------+------+\n",
       "|protocol_type|count |\n",
       "+-------------+------+\n",
       "|udp          |20354 |\n",
       "|tcp          |190065|\n",
       "|icmp         |283602|\n",
       "+-------------+------+\n",
       "\n",
       "\n",
       "Ttotal number of normal connections based on the protocol type: \n",
       "+-------------+-----+\n",
       "|protocol_type|count|\n",
       "+-------------+-----+\n",
       "|icmp         |1288 |\n",
       "|udp          |19177|\n",
       "|tcp          |76813|\n",
       "+-------------+-----+\n",
       "\n"
      ]
     },
     "metadata": {
      "application/vnd.databricks.v1+output": {
       "addedWidgets": {},
       "arguments": {},
       "data": "\nGet the total number of normal connections based on the protocol type and compare with all types of connections.\n\nTtotal number of connections based on the protocol type: \n+-------------+------+\n|protocol_type|count |\n+-------------+------+\n|udp          |20354 |\n|tcp          |190065|\n|icmp         |283602|\n+-------------+------+\n\n\nTtotal number of normal connections based on the protocol type: \n+-------------+-----+\n|protocol_type|count|\n+-------------+-----+\n|icmp         |1288 |\n|udp          |19177|\n|tcp          |76813|\n+-------------+-----+\n\n",
       "datasetInfos": [],
       "metadata": {},
       "removedWidgets": [],
       "type": "ansi"
      }
     },
     "output_type": "display_data"
    },
    {
     "data": {
      "text/html": [
       "<style scoped>\n",
       "  .table-result-container {\n",
       "    max-height: 300px;\n",
       "    overflow: auto;\n",
       "  }\n",
       "  table, th, td {\n",
       "    border: 1px solid black;\n",
       "    border-collapse: collapse;\n",
       "  }\n",
       "  th, td {\n",
       "    padding: 5px;\n",
       "  }\n",
       "  th {\n",
       "    text-align: left;\n",
       "  }\n",
       "</style><div class='table-result-container'><table class='table-result'><thead style='background-color: white'><tr><th>protocol_type</th><th>count</th></tr></thead><tbody><tr><td>udp</td><td>20354</td></tr><tr><td>tcp</td><td>190065</td></tr><tr><td>icmp</td><td>283602</td></tr></tbody></table></div>"
      ]
     },
     "metadata": {
      "application/vnd.databricks.v1+output": {
       "addedWidgets": {},
       "aggData": [],
       "aggError": "",
       "aggOverflow": false,
       "aggSchema": [],
       "aggSeriesLimitReached": false,
       "aggType": "",
       "arguments": {},
       "columnCustomDisplayInfos": {},
       "data": [
        [
         "udp",
         20354
        ],
        [
         "tcp",
         190065
        ],
        [
         "icmp",
         283602
        ]
       ],
       "datasetInfos": [],
       "dbfsResultPath": null,
       "isJsonSchema": true,
       "metadata": {},
       "overflow": false,
       "plotOptions": {
        "customPlotOptions": {},
        "displayType": "pieChart",
        "pivotAggregation": null,
        "pivotColumns": null,
        "xColumns": null,
        "yColumns": null
       },
       "removedWidgets": [],
       "schema": [
        {
         "metadata": "{}",
         "name": "protocol_type",
         "type": "\"string\""
        },
        {
         "metadata": "{}",
         "name": "count",
         "type": "\"long\""
        }
       ],
       "type": "table"
      }
     },
     "output_type": "display_data"
    },
    {
     "data": {
      "text/html": [
       "<style scoped>\n",
       "  .table-result-container {\n",
       "    max-height: 300px;\n",
       "    overflow: auto;\n",
       "  }\n",
       "  table, th, td {\n",
       "    border: 1px solid black;\n",
       "    border-collapse: collapse;\n",
       "  }\n",
       "  th, td {\n",
       "    padding: 5px;\n",
       "  }\n",
       "  th {\n",
       "    text-align: left;\n",
       "  }\n",
       "</style><div class='table-result-container'><table class='table-result'><thead style='background-color: white'><tr><th>protocol_type</th><th>count</th></tr></thead><tbody><tr><td>icmp</td><td>1288</td></tr><tr><td>udp</td><td>19177</td></tr><tr><td>tcp</td><td>76813</td></tr></tbody></table></div>"
      ]
     },
     "metadata": {
      "application/vnd.databricks.v1+output": {
       "addedWidgets": {},
       "aggData": [],
       "aggError": "",
       "aggOverflow": false,
       "aggSchema": [],
       "aggSeriesLimitReached": false,
       "aggType": "",
       "arguments": {},
       "columnCustomDisplayInfos": {},
       "data": [
        [
         "icmp",
         1288
        ],
        [
         "udp",
         19177
        ],
        [
         "tcp",
         76813
        ]
       ],
       "datasetInfos": [],
       "dbfsResultPath": null,
       "isJsonSchema": true,
       "metadata": {},
       "overflow": false,
       "plotOptions": {
        "customPlotOptions": {},
        "displayType": "pieChart",
        "pivotAggregation": null,
        "pivotColumns": null,
        "xColumns": null,
        "yColumns": null
       },
       "removedWidgets": [],
       "schema": [
        {
         "metadata": "{}",
         "name": "protocol_type",
         "type": "\"string\""
        },
        {
         "metadata": "{}",
         "name": "count",
         "type": "\"long\""
        }
       ],
       "type": "table"
      }
     },
     "output_type": "display_data"
    }
   ],
   "source": [
    "#--------------------------------------------------#\n",
    "print(\"\\nGet the total number of normal connections based on the protocol type and compare with all types of connections.\")\n",
    "DF_connection_analysis = df_KDDCup_extract.filter(df_KDDCup_extract.label == \"normal\").groupBy(\"protocol_type\").count().orderBy(\"count\")\n",
    "display(DF_connection_protocol)\n",
    "display(DF_connection_analysis)\n",
    "print(\"\\nTtotal number of connections based on the protocol type: \")\n",
    "DF_connection_protocol.show(truncate=False)\n",
    "print(\"\\nTtotal number of normal connections based on the protocol type: \")\n",
    "DF_connection_analysis.show(truncate=False)"
   ]
  },
  {
   "cell_type": "code",
   "execution_count": 0,
   "metadata": {
    "application/vnd.databricks.v1+cell": {
     "inputWidgets": {},
     "nuid": "3b4a167b-0b52-4e1e-b92d-6ce06f8b229c",
     "showTitle": false,
     "title": ""
    },
    "scrolled": false
   },
   "outputs": [
    {
     "data": {
      "text/plain": [
       "\n",
       "Get the total number of normal connections based on the service and compare with all types of connections.\n",
       "\n",
       "Ttotal number of connections based on the service: \n",
       "+----------+------+\n",
       "|service   |count |\n",
       "+----------+------+\n",
       "|ecr_i     |281400|\n",
       "|private   |110893|\n",
       "|http      |64293 |\n",
       "|smtp      |9723  |\n",
       "|other     |7237  |\n",
       "|domain_u  |5863  |\n",
       "|ftp_data  |4721  |\n",
       "|eco_i     |1642  |\n",
       "|ftp       |798   |\n",
       "|finger    |670   |\n",
       "|urp_i     |538   |\n",
       "|telnet    |513   |\n",
       "|ntp_u     |380   |\n",
       "|auth      |328   |\n",
       "|pop_3     |202   |\n",
       "|time      |157   |\n",
       "|csnet_ns  |126   |\n",
       "|remote_job|120   |\n",
       "|gopher    |117   |\n",
       "|imap4     |117   |\n",
       "+----------+------+\n",
       "only showing top 20 rows\n",
       "\n",
       "\n",
       "Ttotal number of normal connections based on the service: \n",
       "+--------+-----+\n",
       "|service |count|\n",
       "+--------+-----+\n",
       "|http    |61886|\n",
       "|smtp    |9598 |\n",
       "|private |7366 |\n",
       "|domain_u|5862 |\n",
       "|other   |5632 |\n",
       "|ftp_data|3798 |\n",
       "|urp_i   |537  |\n",
       "|finger  |468  |\n",
       "|eco_i   |389  |\n",
       "|ntp_u   |380  |\n",
       "|ftp     |373  |\n",
       "|ecr_i   |345  |\n",
       "|auth    |220  |\n",
       "|telnet  |219  |\n",
       "|pop_3   |79   |\n",
       "|time    |52   |\n",
       "|IRC     |42   |\n",
       "|urh_i   |14   |\n",
       "|X11     |9    |\n",
       "|domain  |3    |\n",
       "+--------+-----+\n",
       "only showing top 20 rows\n",
       "\n"
      ]
     },
     "metadata": {
      "application/vnd.databricks.v1+output": {
       "addedWidgets": {},
       "arguments": {},
       "data": "\nGet the total number of normal connections based on the service and compare with all types of connections.\n\nTtotal number of connections based on the service: \n+----------+------+\n|service   |count |\n+----------+------+\n|ecr_i     |281400|\n|private   |110893|\n|http      |64293 |\n|smtp      |9723  |\n|other     |7237  |\n|domain_u  |5863  |\n|ftp_data  |4721  |\n|eco_i     |1642  |\n|ftp       |798   |\n|finger    |670   |\n|urp_i     |538   |\n|telnet    |513   |\n|ntp_u     |380   |\n|auth      |328   |\n|pop_3     |202   |\n|time      |157   |\n|csnet_ns  |126   |\n|remote_job|120   |\n|gopher    |117   |\n|imap4     |117   |\n+----------+------+\nonly showing top 20 rows\n\n\nTtotal number of normal connections based on the service: \n+--------+-----+\n|service |count|\n+--------+-----+\n|http    |61886|\n|smtp    |9598 |\n|private |7366 |\n|domain_u|5862 |\n|other   |5632 |\n|ftp_data|3798 |\n|urp_i   |537  |\n|finger  |468  |\n|eco_i   |389  |\n|ntp_u   |380  |\n|ftp     |373  |\n|ecr_i   |345  |\n|auth    |220  |\n|telnet  |219  |\n|pop_3   |79   |\n|time    |52   |\n|IRC     |42   |\n|urh_i   |14   |\n|X11     |9    |\n|domain  |3    |\n+--------+-----+\nonly showing top 20 rows\n\n",
       "datasetInfos": [],
       "metadata": {},
       "removedWidgets": [],
       "type": "ansi"
      }
     },
     "output_type": "display_data"
    },
    {
     "data": {
      "text/html": [
       "<style scoped>\n",
       "  .table-result-container {\n",
       "    max-height: 300px;\n",
       "    overflow: auto;\n",
       "  }\n",
       "  table, th, td {\n",
       "    border: 1px solid black;\n",
       "    border-collapse: collapse;\n",
       "  }\n",
       "  th, td {\n",
       "    padding: 5px;\n",
       "  }\n",
       "  th {\n",
       "    text-align: left;\n",
       "  }\n",
       "</style><div class='table-result-container'><table class='table-result'><thead style='background-color: white'><tr><th>service</th><th>count</th></tr></thead><tbody><tr><td>ecr_i</td><td>281400</td></tr><tr><td>private</td><td>110893</td></tr><tr><td>http</td><td>64293</td></tr><tr><td>smtp</td><td>9723</td></tr><tr><td>other</td><td>7237</td></tr><tr><td>domain_u</td><td>5863</td></tr><tr><td>ftp_data</td><td>4721</td></tr><tr><td>eco_i</td><td>1642</td></tr><tr><td>ftp</td><td>798</td></tr><tr><td>finger</td><td>670</td></tr><tr><td>urp_i</td><td>538</td></tr><tr><td>telnet</td><td>513</td></tr><tr><td>ntp_u</td><td>380</td></tr><tr><td>auth</td><td>328</td></tr><tr><td>pop_3</td><td>202</td></tr><tr><td>time</td><td>157</td></tr><tr><td>csnet_ns</td><td>126</td></tr><tr><td>remote_job</td><td>120</td></tr><tr><td>gopher</td><td>117</td></tr><tr><td>imap4</td><td>117</td></tr><tr><td>domain</td><td>116</td></tr><tr><td>discard</td><td>116</td></tr><tr><td>iso_tsap</td><td>115</td></tr><tr><td>systat</td><td>115</td></tr><tr><td>echo</td><td>112</td></tr><tr><td>shell</td><td>112</td></tr><tr><td>rje</td><td>111</td></tr><tr><td>sql_net</td><td>110</td></tr><tr><td>whois</td><td>110</td></tr><tr><td>printer</td><td>109</td></tr><tr><td>nntp</td><td>108</td></tr><tr><td>courier</td><td>108</td></tr><tr><td>sunrpc</td><td>107</td></tr><tr><td>mtp</td><td>107</td></tr><tr><td>netbios_ssn</td><td>107</td></tr><tr><td>uucp</td><td>106</td></tr><tr><td>klogin</td><td>106</td></tr><tr><td>uucp_path</td><td>106</td></tr><tr><td>vmnet</td><td>106</td></tr><tr><td>bgp</td><td>106</td></tr><tr><td>ssh</td><td>105</td></tr><tr><td>nnsp</td><td>105</td></tr><tr><td>supdup</td><td>105</td></tr><tr><td>login</td><td>104</td></tr><tr><td>hostnames</td><td>104</td></tr><tr><td>efs</td><td>103</td></tr><tr><td>daytime</td><td>103</td></tr><tr><td>netbios_ns</td><td>102</td></tr><tr><td>link</td><td>102</td></tr><tr><td>ldap</td><td>101</td></tr><tr><td>pop_2</td><td>101</td></tr><tr><td>netbios_dgm</td><td>99</td></tr><tr><td>http_443</td><td>99</td></tr><tr><td>exec</td><td>99</td></tr><tr><td>name</td><td>98</td></tr><tr><td>kshell</td><td>98</td></tr><tr><td>ctf</td><td>97</td></tr><tr><td>netstat</td><td>95</td></tr><tr><td>Z39_50</td><td>92</td></tr><tr><td>IRC</td><td>43</td></tr><tr><td>urh_i</td><td>14</td></tr><tr><td>X11</td><td>11</td></tr><tr><td>tim_i</td><td>7</td></tr><tr><td>tftp_u</td><td>1</td></tr><tr><td>pm_dump</td><td>1</td></tr><tr><td>red_i</td><td>1</td></tr></tbody></table></div>"
      ]
     },
     "metadata": {
      "application/vnd.databricks.v1+output": {
       "addedWidgets": {},
       "aggData": [],
       "aggError": "",
       "aggOverflow": false,
       "aggSchema": [],
       "aggSeriesLimitReached": false,
       "aggType": "",
       "arguments": {},
       "columnCustomDisplayInfos": {},
       "data": [
        [
         "ecr_i",
         281400
        ],
        [
         "private",
         110893
        ],
        [
         "http",
         64293
        ],
        [
         "smtp",
         9723
        ],
        [
         "other",
         7237
        ],
        [
         "domain_u",
         5863
        ],
        [
         "ftp_data",
         4721
        ],
        [
         "eco_i",
         1642
        ],
        [
         "ftp",
         798
        ],
        [
         "finger",
         670
        ],
        [
         "urp_i",
         538
        ],
        [
         "telnet",
         513
        ],
        [
         "ntp_u",
         380
        ],
        [
         "auth",
         328
        ],
        [
         "pop_3",
         202
        ],
        [
         "time",
         157
        ],
        [
         "csnet_ns",
         126
        ],
        [
         "remote_job",
         120
        ],
        [
         "gopher",
         117
        ],
        [
         "imap4",
         117
        ],
        [
         "domain",
         116
        ],
        [
         "discard",
         116
        ],
        [
         "iso_tsap",
         115
        ],
        [
         "systat",
         115
        ],
        [
         "echo",
         112
        ],
        [
         "shell",
         112
        ],
        [
         "rje",
         111
        ],
        [
         "sql_net",
         110
        ],
        [
         "whois",
         110
        ],
        [
         "printer",
         109
        ],
        [
         "nntp",
         108
        ],
        [
         "courier",
         108
        ],
        [
         "sunrpc",
         107
        ],
        [
         "mtp",
         107
        ],
        [
         "netbios_ssn",
         107
        ],
        [
         "uucp",
         106
        ],
        [
         "klogin",
         106
        ],
        [
         "uucp_path",
         106
        ],
        [
         "vmnet",
         106
        ],
        [
         "bgp",
         106
        ],
        [
         "ssh",
         105
        ],
        [
         "nnsp",
         105
        ],
        [
         "supdup",
         105
        ],
        [
         "login",
         104
        ],
        [
         "hostnames",
         104
        ],
        [
         "efs",
         103
        ],
        [
         "daytime",
         103
        ],
        [
         "netbios_ns",
         102
        ],
        [
         "link",
         102
        ],
        [
         "ldap",
         101
        ],
        [
         "pop_2",
         101
        ],
        [
         "netbios_dgm",
         99
        ],
        [
         "http_443",
         99
        ],
        [
         "exec",
         99
        ],
        [
         "name",
         98
        ],
        [
         "kshell",
         98
        ],
        [
         "ctf",
         97
        ],
        [
         "netstat",
         95
        ],
        [
         "Z39_50",
         92
        ],
        [
         "IRC",
         43
        ],
        [
         "urh_i",
         14
        ],
        [
         "X11",
         11
        ],
        [
         "tim_i",
         7
        ],
        [
         "tftp_u",
         1
        ],
        [
         "pm_dump",
         1
        ],
        [
         "red_i",
         1
        ]
       ],
       "datasetInfos": [],
       "dbfsResultPath": null,
       "isJsonSchema": true,
       "metadata": {},
       "overflow": false,
       "plotOptions": {
        "customPlotOptions": {},
        "displayType": "pieChart",
        "pivotAggregation": null,
        "pivotColumns": null,
        "xColumns": null,
        "yColumns": null
       },
       "removedWidgets": [],
       "schema": [
        {
         "metadata": "{}",
         "name": "service",
         "type": "\"string\""
        },
        {
         "metadata": "{}",
         "name": "count",
         "type": "\"long\""
        }
       ],
       "type": "table"
      }
     },
     "output_type": "display_data"
    },
    {
     "data": {
      "text/html": [
       "<style scoped>\n",
       "  .table-result-container {\n",
       "    max-height: 300px;\n",
       "    overflow: auto;\n",
       "  }\n",
       "  table, th, td {\n",
       "    border: 1px solid black;\n",
       "    border-collapse: collapse;\n",
       "  }\n",
       "  th, td {\n",
       "    padding: 5px;\n",
       "  }\n",
       "  th {\n",
       "    text-align: left;\n",
       "  }\n",
       "</style><div class='table-result-container'><table class='table-result'><thead style='background-color: white'><tr><th>service</th><th>count</th></tr></thead><tbody><tr><td>http</td><td>61886</td></tr><tr><td>smtp</td><td>9598</td></tr><tr><td>private</td><td>7366</td></tr><tr><td>domain_u</td><td>5862</td></tr><tr><td>other</td><td>5632</td></tr><tr><td>ftp_data</td><td>3798</td></tr><tr><td>urp_i</td><td>537</td></tr><tr><td>finger</td><td>468</td></tr><tr><td>eco_i</td><td>389</td></tr><tr><td>ntp_u</td><td>380</td></tr><tr><td>ftp</td><td>373</td></tr><tr><td>ecr_i</td><td>345</td></tr><tr><td>auth</td><td>220</td></tr><tr><td>telnet</td><td>219</td></tr><tr><td>pop_3</td><td>79</td></tr><tr><td>time</td><td>52</td></tr><tr><td>IRC</td><td>42</td></tr><tr><td>urh_i</td><td>14</td></tr><tr><td>X11</td><td>9</td></tr><tr><td>domain</td><td>3</td></tr><tr><td>tim_i</td><td>2</td></tr><tr><td>tftp_u</td><td>1</td></tr><tr><td>shell</td><td>1</td></tr><tr><td>red_i</td><td>1</td></tr><tr><td>ssh</td><td>1</td></tr></tbody></table></div>"
      ]
     },
     "metadata": {
      "application/vnd.databricks.v1+output": {
       "addedWidgets": {},
       "aggData": [],
       "aggError": "",
       "aggOverflow": false,
       "aggSchema": [],
       "aggSeriesLimitReached": false,
       "aggType": "",
       "arguments": {},
       "columnCustomDisplayInfos": {},
       "data": [
        [
         "http",
         61886
        ],
        [
         "smtp",
         9598
        ],
        [
         "private",
         7366
        ],
        [
         "domain_u",
         5862
        ],
        [
         "other",
         5632
        ],
        [
         "ftp_data",
         3798
        ],
        [
         "urp_i",
         537
        ],
        [
         "finger",
         468
        ],
        [
         "eco_i",
         389
        ],
        [
         "ntp_u",
         380
        ],
        [
         "ftp",
         373
        ],
        [
         "ecr_i",
         345
        ],
        [
         "auth",
         220
        ],
        [
         "telnet",
         219
        ],
        [
         "pop_3",
         79
        ],
        [
         "time",
         52
        ],
        [
         "IRC",
         42
        ],
        [
         "urh_i",
         14
        ],
        [
         "X11",
         9
        ],
        [
         "domain",
         3
        ],
        [
         "tim_i",
         2
        ],
        [
         "tftp_u",
         1
        ],
        [
         "shell",
         1
        ],
        [
         "red_i",
         1
        ],
        [
         "ssh",
         1
        ]
       ],
       "datasetInfos": [],
       "dbfsResultPath": null,
       "isJsonSchema": true,
       "metadata": {},
       "overflow": false,
       "plotOptions": {
        "customPlotOptions": {},
        "displayType": "pieChart",
        "pivotAggregation": null,
        "pivotColumns": null,
        "xColumns": null,
        "yColumns": null
       },
       "removedWidgets": [],
       "schema": [
        {
         "metadata": "{}",
         "name": "service",
         "type": "\"string\""
        },
        {
         "metadata": "{}",
         "name": "count",
         "type": "\"long\""
        }
       ],
       "type": "table"
      }
     },
     "output_type": "display_data"
    }
   ],
   "source": [
    "#--------------------------------------------------#\n",
    "print(\"\\nGet the total number of normal connections based on the service and compare with all types of connections.\")\n",
    "DF_connection_analysis = df_KDDCup_extract.filter(df_KDDCup_extract.label == \"normal\").groupBy(\"service\").count().orderBy(\"count\", ascending=False)\n",
    "display(DF_connection_service.orderBy(\"count\", ascending=False))\n",
    "display(DF_connection_analysis)\n",
    "print(\"\\nTtotal number of connections based on the service: \")\n",
    "DF_connection_service.orderBy(\"count\", ascending=False).show(truncate=False)\n",
    "print(\"\\nTtotal number of normal connections based on the service: \")\n",
    "DF_connection_analysis.show(truncate=False)"
   ]
  },
  {
   "cell_type": "markdown",
   "metadata": {},
   "source": [
    "# Part A - Question 8:"
   ]
  },
  {
   "cell_type": "code",
   "execution_count": 2,
   "metadata": {
    "application/vnd.databricks.v1+cell": {
     "inputWidgets": {},
     "nuid": "0624d160-9886-42bb-9aa8-6d4ace52731a",
     "showTitle": false,
     "title": ""
    },
    "scrolled": false
   },
   "outputs": [
    {
     "name": "stdout",
     "output_type": "stream",
     "text": [
      "Part A - Question 8: \n",
      "\n"
     ]
    }
   ],
   "source": [
    "#--------------------------------------------------#\n",
    "# Part A - Question 8:\n",
    "print(\"Part A - Question 8: \\n\")\n",
    "\n",
    "#--------------------------------------------------#\n",
    "from pyspark.mllib.classification import SVMWithSGD, SVMModel\n",
    "from pyspark.ml.evaluation import MulticlassClassificationEvaluator\n",
    "from pyspark.sql.functions import when\n",
    "from pyspark.sql.functions import lit\n",
    "\n",
    "df_KDDCup_extract = df_KDDCup_extract.withColumn(\"label_2\", when((df_KDDCup_extract.label==\"normal\"), lit(\"normal\")).when((df_KDDCup_extract.label!=\"normal\"), lit(\"attack\")))\n",
    "display(df_KDDCup_extract)\n",
    "\n",
    "\n",
    "# Load and parse the data\n",
    "def parsePoint(line):\n",
    "    return LabeledPoint(values[0], values[1:])\n",
    "RDD_KDDCup_ML = RDD_KDDCup_extracted.map(parsePoint)\n",
    "\n",
    "\n",
    "splits = RDD_KDDCup_ML.randomSplit([0.7,0.3])\n",
    "train_set = splits[0]\n",
    "test_set = splits[1]\n",
    "clf = SVMWithSGD()\n",
    "\n",
    "model_fit = clf.train(train_set)\n",
    "\n",
    "# Further Analysis is not shown here due to unstability of databricks.\n",
    "\n",
    "\n",
    "\n",
    "\n",
    "\n"
   ]
  }
 ],
 "metadata": {
  "application/vnd.databricks.v1+notebook": {
   "dashboards": [],
   "language": "python",
   "notebookMetadata": {
    "pythonIndentUnit": 4
   },
   "notebookName": "A3",
   "notebookOrigID": 1162755663323040,
   "widgets": {}
  },
  "kernelspec": {
   "display_name": "Python 3",
   "language": "python",
   "name": "python3"
  },
  "language_info": {
   "codemirror_mode": {
    "name": "ipython",
    "version": 3
   },
   "file_extension": ".py",
   "mimetype": "text/x-python",
   "name": "python",
   "nbconvert_exporter": "python",
   "pygments_lexer": "ipython3",
   "version": "3.8.8"
  }
 },
 "nbformat": 4,
 "nbformat_minor": 1
}
